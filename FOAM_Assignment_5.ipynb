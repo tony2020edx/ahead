{
  "cells": [
    {
      "cell_type": "markdown",
      "metadata": {
        "id": "view-in-github",
        "colab_type": "text"
      },
      "source": [
        "<a href=\"https://colab.research.google.com/github/tony2020edx/ahead/blob/main/FOAM_Assignment_5.ipynb\" target=\"_parent\"><img src=\"https://colab.research.google.com/assets/colab-badge.svg\" alt=\"Open In Colab\"/></a>"
      ]
    },
    {
      "cell_type": "markdown",
      "metadata": {
        "id": "qHgGRS4zgbLD"
      },
      "source": [
        "# Simplification and Evaluation of mathematical expressions using Sympy"
      ]
    },
    {
      "cell_type": "markdown",
      "metadata": {
        "id": "LHUW3V5rgfdk"
      },
      "source": [
        "**Question 1**\n",
        "\n",
        "\\begin{align}\n",
        "\\frac{2x^{12}}{5y^{10}}\n",
        "\\end{align}\n",
        "\n",
        "Solve for (a) $x = 2$ , $y = 2$  (b) Case 2 : $x = 1$ , $y = 1$ \n",
        "\n"
      ]
    },
    {
      "cell_type": "markdown",
      "metadata": {
        "id": "Zq1VF-psinkc"
      },
      "source": [
        "**Evaluating the expression using Sympy**"
      ]
    },
    {
      "cell_type": "code",
      "execution_count": 46,
      "metadata": {
        "colab": {
          "base_uri": "https://localhost:8080/"
        },
        "id": "gAMnlgKhlvik",
        "outputId": "a375a664-45bb-455b-ded9-137f2b11e765"
      },
      "outputs": [
        {
          "output_type": "stream",
          "name": "stdout",
          "text": [
            "The simplified expression is 2*x**12/(5*y**10)\n",
            "The Evaluated result for (a) is: 8/5\n",
            "The Evaluated result for (b) is: 2/5\n"
          ]
        }
      ],
      "source": [
        "from sympy import*\n",
        "\n",
        "x = Symbol('x')\n",
        "y = Symbol('y')\n",
        "\n",
        "expression = \"(2*x**12)/(5*y**10)\"\n",
        "\n",
        "simplified_expression = simplify(expression)\n",
        "print(\"The simplified expression is {}\". format(simplified_expression))\n",
        "\n",
        "evaluated_result_a = simplified_expression.subs({x:2, y:2}) \n",
        "evaluated_result_b = simplified_expression.subs({x:1, y:1}) \n",
        "\n",
        "print(\"The Evaluated result for (a) is: {}\".format(evaluated_result_a))\n",
        "print(\"The Evaluated result for (b) is: {}\".format(evaluated_result_b))"
      ]
    },
    {
      "cell_type": "markdown",
      "metadata": {
        "id": "3OPgtzRxrDgr"
      },
      "source": [
        "**Question 2**\n",
        "\n",
        "\\begin{align}35\n",
        "\\left (\\frac{4x}{5}\\right)\n",
        "\\end{align}\n",
        "\n",
        "Solve for (a) $x = 1$ and (b) $x = 5$"
      ]
    },
    {
      "cell_type": "code",
      "execution_count": 47,
      "metadata": {
        "colab": {
          "base_uri": "https://localhost:8080/"
        },
        "id": "IdC1AZ5usdWb",
        "outputId": "03142590-78d2-4d91-bd56-8949efdcd4f6"
      },
      "outputs": [
        {
          "output_type": "stream",
          "name": "stdout",
          "text": [
            "The simplified expression is 28*x\n",
            "The Evaluated result for (a) is: 28\n",
            "The Evaluated result for (b) is: 140\n"
          ]
        }
      ],
      "source": [
        "from sympy import*\n",
        "\n",
        "x = Symbol('x')\n",
        "\n",
        "expression = \"35*(4*x)/5\"\n",
        "\n",
        "simplified_expression = simplify(expression)\n",
        "print(\"The simplified expression is {}\". format(simplified_expression))\n",
        "\n",
        "evaluated_result_a = simplified_expression.subs({x:1})\n",
        "evaluated_result_b = simplified_expression.subs({x:5})\n",
        "\n",
        "print(\"The Evaluated result for (a) is: {}\".format(evaluated_result_a))\n",
        "print(\"The Evaluated result for (b) is: {}\".format(evaluated_result_b))\n"
      ]
    },
    {
      "cell_type": "markdown",
      "source": [
        "**Question 3**\n",
        "\n",
        "\\begin{align}24\n",
        "\\left(\\frac{y}{6}+ \\frac{3}{8} \\right)\n",
        "\\end{align}\n",
        "\n",
        "Solve for (a) $y = 2$ and (b) $y = 1$"
      ],
      "metadata": {
        "id": "Khk7V1ij3VGu"
      }
    },
    {
      "cell_type": "code",
      "source": [
        "from sympy import*\n",
        "\n",
        "y = Symbol('y')\n",
        "\n",
        "expression = \"24*((y/6)+(3/8))\"\n",
        "simplified_expression = simplify(expression)\n",
        "\n",
        "print(\"The simplified expression is {}\". format(simplified_expression))\n",
        "\n",
        "evaluated_result_a = simplified_expression.subs({y:2})\n",
        "evaluated_result_b = simplified_expression.subs({y:1})\n",
        "\n",
        "\n",
        "print(\"The Evaluated result for (a) is: {}\".format(evaluated_result_a))\n",
        "print(\"The Evaluated result for (b) is: {}\".format(evaluated_result_b))\n",
        "\n"
      ],
      "metadata": {
        "colab": {
          "base_uri": "https://localhost:8080/"
        },
        "id": "ClvP5wdI37yP",
        "outputId": "57ac5108-772f-48ba-b3bb-05f139b5aaf1"
      },
      "execution_count": 48,
      "outputs": [
        {
          "output_type": "stream",
          "name": "stdout",
          "text": [
            "The simplified expression is 4*y + 9\n",
            "The Evaluated result for (a) is: 17\n",
            "The Evaluated result for (b) is: 13\n"
          ]
        }
      ]
    },
    {
      "cell_type": "markdown",
      "source": [
        "**Question 4**\n",
        "\n",
        "Calculate the pressure P of the gas using Van der Waal’s Equation for real gas\n",
        "\n",
        "\\begin{align}P =\n",
        "\\left(\\frac{RT}{V-b} - \\frac{a}{V^2}\\right)\n",
        "\\end{align}\n",
        "\n",
        "\n",
        "1. Average attraction between particles (a) = 1.360\n",
        "2. volume excluded by a mole of particles (b) = 0.03186\n",
        "3. Universal Gas constant (R) = 8.31\n",
        "4. Volume of gas(V) = 5\n",
        "5. Temperature(T) = 275\n"
      ],
      "metadata": {
        "id": "6rJSrrcT6bbE"
      }
    },
    {
      "cell_type": "code",
      "source": [
        "from sympy import*\n",
        "\n",
        "a = Symbol('a')\n",
        "b = Symbol('b')\n",
        "R = Symbol('R')\n",
        "V = Symbol('V')\n",
        "T = Symbol('T')\n",
        "\n",
        "expression = \"(((R*T)/(V-b))-(a/V**2))\"\n",
        "simplified_expression = simplify(expression)\n",
        "print(\"The simplified expression is: {}\". format(simplified_expression))\n",
        "\n",
        "evaluated_result = simplified_expression.subs({a:1.360, b:0.03186, R:8.31, V:5, T:275})\n",
        "print(\"The solution of Van der Waal’s Equation for real gas under the given conditions is: {}\".format(evaluated_result))"
      ],
      "metadata": {
        "colab": {
          "base_uri": "https://localhost:8080/"
        },
        "id": "1bdofFGy-Nv6",
        "outputId": "81eefa41-130e-42ea-87f7-9c1b90607901"
      },
      "execution_count": 49,
      "outputs": [
        {
          "output_type": "stream",
          "name": "stdout",
          "text": [
            "The simplified expression is: (R*T*V**2 - a*(V - b))/(V**2*(V - b))\n",
            "The solution of Van der Waal’s Equation for real gas under the given conditions is: 459.926598925151\n"
          ]
        }
      ]
    },
    {
      "cell_type": "code",
      "source": [
        "from sympy import*\n",
        "\n",
        "a = Symbol('a')\n",
        "b = Symbol('b')\n",
        "R = Symbol('R')\n",
        "V = Symbol('V')\n",
        "T = Symbol('T')\n",
        "\n",
        "expression = \"(((R*T)/(V-b))-(a/V**2))\"\n",
        "simplified_expression = simplify(expression)\n",
        "print(\"The simplified expression is: {}\". format(simplified_expression))\n",
        "\n",
        "evaluated_result = simplified_expression.subs({a:1.360, b:0.03186, R:8.31, V:5, T:275})\n",
        "print(\"The solution of Van der Waal’s Equation for real gas under the given conditions is: {}\".format(evaluated_result))"
      ],
      "metadata": {
        "id": "VL9OjXFOx5Y6"
      },
      "execution_count": null,
      "outputs": []
    }
  ],
  "metadata": {
    "colab": {
      "name": "FOAM_Assignment_5.ipynb",
      "provenance": [],
      "collapsed_sections": [],
      "authorship_tag": "ABX9TyOmUnyE5DiYZD+rsL7zUalp",
      "include_colab_link": true
    },
    "kernelspec": {
      "display_name": "Python 3",
      "name": "python3"
    },
    "language_info": {
      "name": "python"
    }
  },
  "nbformat": 4,
  "nbformat_minor": 0
}