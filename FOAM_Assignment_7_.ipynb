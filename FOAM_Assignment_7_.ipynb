{
  "nbformat": 4,
  "nbformat_minor": 0,
  "metadata": {
    "colab": {
      "name": "FOAM Assignment 7 .ipynb",
      "provenance": [],
      "authorship_tag": "ABX9TyOd75X8XjrNjKs3JrhZqtif",
      "include_colab_link": true
    },
    "kernelspec": {
      "name": "python3",
      "display_name": "Python 3"
    },
    "language_info": {
      "name": "python"
    }
  },
  "cells": [
    {
      "cell_type": "markdown",
      "metadata": {
        "id": "view-in-github",
        "colab_type": "text"
      },
      "source": [
        "<a href=\"https://colab.research.google.com/github/tony2020edx/ahead/blob/main/FOAM_Assignment_7_.ipynb\" target=\"_parent\"><img src=\"https://colab.research.google.com/assets/colab-badge.svg\" alt=\"Open In Colab\"/></a>"
      ]
    },
    {
      "cell_type": "markdown",
      "source": [
        "# **Solve the given equations using symbolic, graphical and numerical methodes**"
      ],
      "metadata": {
        "id": "M17CazIvSPJD"
      }
    },
    {
      "cell_type": "markdown",
      "source": [
        "Question 1: \n",
        "\n",
        "> $x^2 - 2x - 3 = 0$"
      ],
      "metadata": {
        "id": "Jg_1NUX_SjCT"
      }
    },
    {
      "cell_type": "markdown",
      "source": [
        "# **Solution using the Symbolic methode**"
      ],
      "metadata": {
        "id": "0M5Lx7iJS6fo"
      }
    },
    {
      "cell_type": "code",
      "source": [
        "from sympy import *\n",
        "\n",
        "\n",
        "x = Symbol('x')\n",
        "y = x**2 - 2*x - 3\n",
        "\n",
        "solution = solve(y, x)\n",
        "\n",
        "print(\"The solution to the equation is {}\".format(solution))"
      ],
      "metadata": {
        "colab": {
          "base_uri": "https://localhost:8080/"
        },
        "id": "wFViiBFYTBL_",
        "outputId": "a3f28764-53d1-4d5d-ee61-77300ee32c8c"
      },
      "execution_count": 1,
      "outputs": [
        {
          "output_type": "stream",
          "name": "stdout",
          "text": [
            "The solution to the equation is [-1, 3]\n"
          ]
        }
      ]
    },
    {
      "cell_type": "markdown",
      "source": [
        "# **Solution using Graphical Methode**\n",
        "\n"
      ],
      "metadata": {
        "id": "HYoZZ5wpTaHA"
      }
    },
    {
      "cell_type": "code",
      "source": [
        "import numpy as np\n",
        "from matplotlib import pyplot as plt\n",
        "\n",
        "\n",
        "x_lower_limit = -10\n",
        "x_upper_limit = 10\n",
        "x = np.linspace(x_lower_limit, x_upper_limit, num=100)\n",
        "\n",
        "y = x**2-2*x-3\n",
        "\n",
        "y_lower_limit = -10\n",
        "y_upper_limit = 10\n",
        "\n",
        "fig, ax = plt.subplots()\n",
        "ax.plot(x, y)\n",
        "\n",
        "plt.axhline(color='black')\n",
        "plt.axvline(color='black')\n",
        "\n",
        "plt.xlabel('$x$')\n",
        "plt.ylabel('$y$')\n",
        "\n",
        "ax.spines['top'].set_color('none')  #\n",
        "ax.spines['bottom'].set_position('zero')\n",
        "\n",
        "ax.spines['left'].set_position('zero')\n",
        "ax.spines['right'].set_color('none')\n",
        "\n",
        "ax.set_xlim([x_lower_limit, x_upper_limit])\n",
        "ax.set_ylim([y_lower_limit, y_upper_limit])\n",
        "\n",
        "ax.set_xticks(range(x_lower_limit, x_upper_limit, 1))\n",
        "ax.set_yticks(range(y_lower_limit, y_upper_limit, 1))\n",
        "\n",
        "plt.grid()\n",
        "plt.show()"
      ],
      "metadata": {
        "colab": {
          "base_uri": "https://localhost:8080/",
          "height": 254
        },
        "id": "MWIJCUUKThq1",
        "outputId": "809a4b6d-e332-4ae3-ab63-8c9aead446ef"
      },
      "execution_count": 2,
      "outputs": [
        {
          "output_type": "display_data",
          "data": {
            "image/png": "[encoded data removed]",
            "text/plain": [
              "<Figure size 432x288 with 1 Axes>"
            ]
          },
          "metadata": {
            "needs_background": "light"
          }
        }
      ]
    },
    {
      "cell_type": "markdown",
      "source": [
        "# **Solution using numerical methode**"
      ],
      "metadata": {
        "id": "sduT-4fEXOVr"
      }
    },
    {
      "cell_type": "code",
      "source": [
        "from scipy import optimize\n",
        "\n",
        "roots = []\n",
        "\n",
        "\n",
        "def f(x):\n",
        "    return x ** 2 - 2 * x - 3\n",
        "\n",
        "\n",
        "def find_solution():\n",
        "    # if the function doesn't converge it will return a runtime error and the program will stop\n",
        "    # Hence we are using a try and except block\n",
        "\n",
        "    for guess in range(-100, 100):\n",
        "        try:\n",
        "            x0 = guess\n",
        "            solution = round(optimize.newton(f, x0))\n",
        "\n",
        "            if solution not in roots:\n",
        "                roots.append(solution)\n",
        "\n",
        "\n",
        "        except RuntimeError:\n",
        "            print(\"No solution found\")\n",
        "\n",
        "\n",
        "if __name__ == \"__main__\":\n",
        "    find_solution()\n",
        "\n",
        "    print(roots)\n"
      ],
      "metadata": {
        "colab": {
          "base_uri": "https://localhost:8080/"
        },
        "id": "_bjDhczCXSxS",
        "outputId": "694cac36-917e-4f71-be88-169e2fefa180"
      },
      "execution_count": 11,
      "outputs": [
        {
          "output_type": "stream",
          "name": "stdout",
          "text": [
            "[-1, 3]\n"
          ]
        }
      ]
    },
    {
      "cell_type": "markdown",
      "source": [
        "Question 2\n",
        "\n",
        "> $x^2 + 4x+5 = 0$"
      ],
      "metadata": {
        "id": "u6picKD4Z3GQ"
      }
    },
    {
      "cell_type": "markdown",
      "source": [
        "# **Solution Using Analytical Methode**"
      ],
      "metadata": {
        "id": "V3WaTGtQbCT7"
      }
    },
    {
      "cell_type": "code",
      "source": [
        "from sympy import *\n",
        "\n",
        "x = Symbol('x')\n",
        "\n",
        "y = x ** 2 + 4 * x + 5\n",
        "\n",
        "solution = solve(y, x)\n",
        "\n",
        "print(\"The solution to the equation is {}\".format(solution))"
      ],
      "metadata": {
        "colab": {
          "base_uri": "https://localhost:8080/"
        },
        "id": "ZpjLs84nbI6A",
        "outputId": "c74e85b9-c253-4587-e04b-6b6f045f3b7b"
      },
      "execution_count": 5,
      "outputs": [
        {
          "output_type": "stream",
          "name": "stdout",
          "text": [
            "The solution to the equation is [-2 - I, -2 + I]\n"
          ]
        }
      ]
    },
    {
      "cell_type": "markdown",
      "source": [
        "# **Solution using Graphical Methode**"
      ],
      "metadata": {
        "id": "vB70Xu9dcY6m"
      }
    },
    {
      "cell_type": "code",
      "source": [
        "import numpy as np\n",
        "from matplotlib import pyplot as plt\n",
        "\n",
        "\n",
        "x_lower_limit = -10\n",
        "x_upper_limit = 10\n",
        "x = np.linspace(x_lower_limit, x_upper_limit, num=100)\n",
        "\n",
        "y = x**2 + 4*x + 5\n",
        "\n",
        "y_lower_limit = -10\n",
        "y_upper_limit = 10\n",
        "\n",
        "############\n",
        "\n",
        "fig, ax = plt.subplots()\n",
        "ax.plot(x, y, )\n",
        "\n",
        "plt.axhline(color='black')\n",
        "plt.axvline(color='black')\n",
        "\n",
        "plt.xlabel('$x$')\n",
        "plt.ylabel('$y$')\n",
        "\n",
        "ax.spines['top'].set_color('none')  #\n",
        "ax.spines['bottom'].set_position('zero')\n",
        "\n",
        "ax.spines['left'].set_position('zero')\n",
        "ax.spines['right'].set_color('none')\n",
        "\n",
        "ax.set_xlim([x_lower_limit, x_upper_limit])\n",
        "ax.set_ylim([y_lower_limit, y_upper_limit])\n",
        "\n",
        "ax.set_xticks(range(x_lower_limit, x_upper_limit, 1))\n",
        "ax.set_yticks(range(y_lower_limit, y_upper_limit, 1))\n",
        "\n",
        "plt.grid()\n",
        "plt.show()\n"
      ],
      "metadata": {
        "colab": {
          "base_uri": "https://localhost:8080/",
          "height": 254
        },
        "id": "stcRs16Gcdo-",
        "outputId": "3cdd3961-9d5e-4fc5-b943-9a8f64a8deb4"
      },
      "execution_count": 6,
      "outputs": [
        {
          "output_type": "display_data",
          "data": {
            "image/png": "[encoded data removed]",
            "text/plain": [
              "<Figure size 432x288 with 1 Axes>"
            ]
          },
          "metadata": {
            "needs_background": "light"
          }
        }
      ]
    },
    {
      "cell_type": "markdown",
      "source": [
        "# **Solution using numerical methode**"
      ],
      "metadata": {
        "id": "1oJCX9I6c5pt"
      }
    },
    {
      "cell_type": "code",
      "source": [
        "from scipy import optimize\n",
        "\n",
        "\n",
        "def f(x):\n",
        "    return x ** 2 + 4 * x + 5\n",
        "\n",
        "\n",
        "def find_solution():\n",
        "    # if the function doesnt converge it will return a runtime error and the program will stop\n",
        "    # Hence we are using a try and except block\n",
        "\n",
        "    possible_guesses = [0, 1, 2, 10, 20, 30, 70, 100]  # list of possible guesses\n",
        "\n",
        "    # I used a list of different guesses to try and find a solution because for a couple of random guesses it \n",
        "    # returned no solution \n",
        "\n",
        "    for guess in possible_guesses:\n",
        "\n",
        "        try:\n",
        "            x0 = guess\n",
        "            solution = optimize.newton(f, x0)\n",
        "            print(\"The solution is {}\".format(solution))\n",
        "\n",
        "        except RuntimeError:\n",
        "            print(\"No solution found\")\n",
        "\n",
        "\n",
        "if __name__ == \"__main__\":\n",
        "    find_solution()"
      ],
      "metadata": {
        "colab": {
          "base_uri": "https://localhost:8080/"
        },
        "id": "O0zEMeTAc9Vt",
        "outputId": "bef99061-72dc-4cf6-f828-0072f4d9b158"
      },
      "execution_count": 13,
      "outputs": [
        {
          "output_type": "stream",
          "name": "stdout",
          "text": [
            "No solution found\n",
            "No solution found\n",
            "No solution found\n",
            "No solution found\n",
            "No solution found\n",
            "No solution found\n",
            "No solution found\n",
            "No solution found\n"
          ]
        }
      ]
    }
  ]
}