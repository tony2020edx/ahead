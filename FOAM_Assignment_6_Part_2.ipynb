{
  "nbformat": 4,
  "nbformat_minor": 0,
  "metadata": {
    "colab": {
      "name": "FOAM_Assignment_6_Part_2.ipynb",
      "provenance": [],
      "collapsed_sections": [],
      "authorship_tag": "ABX9TyM5N26w5j2J5uftA2lDTmdp",
      "include_colab_link": true
    },
    "kernelspec": {
      "name": "python3",
      "display_name": "Python 3"
    },
    "language_info": {
      "name": "python"
    }
  },
  "cells": [
    {
      "cell_type": "markdown",
      "metadata": {
        "id": "view-in-github",
        "colab_type": "text"
      },
      "source": [
        "<a href=\"https://colab.research.google.com/github/tony2020edx/ahead/blob/main/FOAM_Assignment_6_Part_2.ipynb\" target=\"_parent\"><img src=\"https://colab.research.google.com/assets/colab-badge.svg\" alt=\"Open In Colab\"/></a>"
      ]
    },
    {
      "cell_type": "markdown",
      "source": [
        "# ***Question:*** Which of the following are linear equations in ONE variable? Give reasons for each answer\n",
        "\n"
      ],
      "metadata": {
        "id": "09XfWEUqNUAI"
      }
    },
    {
      "cell_type": "markdown",
      "source": [
        "The necessary condition an equation should follow to be a linear equation is one variable is as follows. \n",
        "\n",
        "1. The linear equations in one variable is an equation which is expressed in the form of ax+b = 0, where a and b are two integers.\n",
        "2. The power of x should be 1\n",
        "3. x is a variable and has only one solution."
      ],
      "metadata": {
        "id": "JnRdLUTYR22g"
      }
    },
    {
      "cell_type": "markdown",
      "source": [
        "(i) $2x + 5 = 8$\n",
        "\n",
        "The above equation can be rewrittern as follows.\n",
        "\n",
        "$2x+5-8 = 0$\n",
        "\n",
        "$2x-3 = 0$\n",
        "\n",
        "$x = 1.5$\n",
        "\n",
        "**Observations**\n",
        "\n",
        "1. The equation is in the form $ax+b = 0$ \n",
        "2. The power of x is 1 and x is the only variable \n",
        "3. The only solution we found is 1.5 \n",
        "\n",
        "Hence for the above reasons that the equation satisfies all the conditions, the given equation is **a linear equation** in ONE variable"
      ],
      "metadata": {
        "id": "z2369e9sNaw6"
      }
    },
    {
      "cell_type": "markdown",
      "source": [
        "(ii) $3y-z = y+5$\n",
        "\n",
        "The above equation can be rewritten as follows\n",
        "\n",
        "$3y-z-y-5 = 0$\n",
        "\n",
        "$2y-z-5=0$\n",
        "\n",
        "**observations**\n",
        "\n",
        "1. The equation has more than one variable. \n",
        "\n",
        "Hence for the reason that it violates condition 3, the given equation is **not a  linear equation** in ONE variable"
      ],
      "metadata": {
        "id": "PsArgHWqODfy"
      }
    },
    {
      "cell_type": "markdown",
      "source": [
        "(iii) $x^2-2x = x + 3$\n",
        "\n",
        "The equation can be rewritten as follows. \n",
        "\n",
        "$x^2-3x-3= 0$\n",
        "\n",
        "**Observations**\n",
        "1. The power of x in the equation is 2.\n",
        "\n",
        "Hence for the reason that it violates condition 2, above the given equation is **not a  linear equation** in ONE variable. "
      ],
      "metadata": {
        "id": "uz1hmv4WRH62"
      }
    },
    {
      "cell_type": "markdown",
      "source": [
        "(iv) $3x-7 = 2x+3$\n",
        "\n",
        "The equation can be rewritten as. \n",
        "\n",
        "$3x-2x-7-3=0$\n",
        "\n",
        "$x-10=0$\n",
        "\n",
        "$x=10$\n",
        "\n",
        "**Observations**\n",
        "\n",
        "1. The equation is in the form 𝑎𝑥+𝑏=0\n",
        "2. The power of x is 1 and x is the only variable\n",
        "3. The only solution we found is 10.\n",
        "\n",
        "Hence for the above reasons that the equation satisfies all the conditions, the given equation **is a linear equation** in ONE variable\n"
      ],
      "metadata": {
        "id": "JP0wYR2KTBFf"
      }
    },
    {
      "cell_type": "markdown",
      "source": [
        "(v) $2+4 = 5+1$\n",
        "\n",
        "**Observations**. \n",
        "\n",
        "1. There are no variables to the equation\n",
        "\n",
        "Hence for the reason that it violates all the conditions, the given equation is **not a liniear equation** in one variable."
      ],
      "metadata": {
        "id": "LokgsAF1UJeD"
      }
    },
    {
      "cell_type": "markdown",
      "source": [
        "# 4) **Question:** of the following are linear equations in TWO variables ?Give reasons for each answer\n",
        "\n"
      ],
      "metadata": {
        "id": "_oY_yWvZUrvF"
      }
    },
    {
      "cell_type": "markdown",
      "source": [
        "Linear equations in two variables are the algebraic equations which satisfies the following conditions\n",
        "\n",
        "1. They are of the form $ax+by = c$ where a and b are real numbers.\n",
        "2. The equation is a first order equation"
      ],
      "metadata": {
        "id": "6J2r-QurU-Il"
      }
    },
    {
      "cell_type": "markdown",
      "source": [
        "(i) $2x+z = 5$\n",
        "\n",
        "**Observation**\n",
        "\n",
        "1. The equation is in the form $ax+by = c$ and has two variables $x$ and $z$\n",
        "2. The equation is a first order equation\n",
        "\n",
        "Hence for the above reasons that the equation satisfies all the conditions, the given equation **is a linear equation** in Two variable"
      ],
      "metadata": {
        "id": "8s9WhDkxW0_W"
      }
    },
    {
      "cell_type": "markdown",
      "source": [
        "(ii) $3y-2 = x+ 3$\n",
        "\n",
        "The above equation can be rewritten as $3y-x=5$\n",
        "\n",
        "**Observation**\n",
        "\n",
        "1. The equation is in the form $ax+by = c$ and has two variables $x$ and $y$\n",
        "2. The equation is a first order equation\n",
        "\n",
        "Hence for the above reasons that the equation satisfies all the conditions, the given equation **is a linear equation** in Two variable"
      ],
      "metadata": {
        "id": "_cXna0g2X-vA"
      }
    },
    {
      "cell_type": "markdown",
      "source": [
        "(iii) $3t+6 = t-1$\n",
        "\n",
        "The above equation can be rewrittern as $2t=-7$\n",
        "\n",
        "**Observation**\n",
        "\n",
        "1. The equation is not in the form $ax+by = c$ and has only one variable $t$ \n",
        "\n",
        "Hence for the above reasons that the equation violates conditions 1, the given equation is **not a linear equation** in Two variable"
      ],
      "metadata": {
        "id": "mFlQI52bYYiI"
      }
    }
  ]
}