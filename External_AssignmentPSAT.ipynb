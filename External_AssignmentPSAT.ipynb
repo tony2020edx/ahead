{
  "nbformat": 4,
  "nbformat_minor": 0,
  "metadata": {
    "colab": {
      "name": "External_AssignmentPSAT.ipynb",
      "provenance": [],
      "authorship_tag": "ABX9TyOF0rFfp5PCujT7V89sJv7H",
      "include_colab_link": true
    },
    "kernelspec": {
      "name": "python3",
      "display_name": "Python 3"
    },
    "language_info": {
      "name": "python"
    }
  },
  "cells": [
    {
      "cell_type": "markdown",
      "metadata": {
        "id": "view-in-github",
        "colab_type": "text"
      },
      "source": [
        "<a href=\"https://colab.research.google.com/github/tony2020edx/ahead/blob/main/External_AssignmentPSAT.ipynb\" target=\"_parent\"><img src=\"https://colab.research.google.com/assets/colab-badge.svg\" alt=\"Open In Colab\"/></a>"
      ]
    },
    {
      "cell_type": "markdown",
      "source": [
        "I choose Problem A and Problem B from the Codeforces [762 DIV 3](https://codeforces.com/contest/1619) Contest"
      ],
      "metadata": {
        "id": "N_hLwHxtKomU"
      }
    },
    {
      "cell_type": "markdown",
      "source": [
        "# **The First Problem**\n",
        "\n",
        "The first problem I attempted is the problem [Square String](https://codeforces.com/contest/1619/problem/A)\n"
      ],
      "metadata": {
        "id": "khj93j_ZK7VE"
      }
    },
    {
      "cell_type": "markdown",
      "source": [
        "Problem Statement: A string is called square if it is some string written twice in a row. For example, the strings \"aa\", \"abcabc\", \"abab\" and \"baabaa\" are square. But the strings \"aaa\", \"abaaab\" and \"abcdabc\" are not square. \n",
        "\n",
        "\n",
        "For a given string 𝑠 determine if it is square.\n",
        "\n",
        "**Input**\n",
        "\n",
        "1. The first line of input data contains an integer 𝑡 (1≤𝑡≤100) —the number of test cases.\n",
        "\n",
        "2. This is followed by 𝑡 lines, each containing a description of one test case. The given strings consist only of lowercase Latin letters and have lengths between 1 and 100 inclusive.\n",
        "\n",
        "**Output**\n",
        "\n",
        "1. For each test case, output on a separate line:\n",
        "\n",
        "2. YES if the string in the corresponding test case is square,\n",
        "NO otherwise.\n",
        "\n",
        "3. You can output YES and NO in any case (for example, strings yEs, yes, Yes and YES will be recognized as a positive response).\n"
      ],
      "metadata": {
        "id": "34J67Mg6LQdS"
      }
    },
    {
      "cell_type": "markdown",
      "source": [
        "# **Observations**\n",
        "\n",
        "1. **The length of the input string must be even:** The reason is even if the substring is of odd length , when it appears twice, the length should be even. \n",
        "\n",
        "2. If we split the string into two halves, if the input string is square - **both halves will be the same.**\n",
        "\n",
        "3. The second observation is the core idea of the solution. We see if the string length is eve, we can check if the halfs are equall. If yes, we can print yes"
      ],
      "metadata": {
        "id": "rSTfKVhGMAI4"
      }
    },
    {
      "cell_type": "code",
      "source": [
        "t = int(input())\n",
        "\n",
        "for i in range(t):\n",
        "    s = input()\n",
        "    length = len(s)\n",
        "\n",
        "    if length % 2 == 0:\n",
        "\n",
        "        f_half = s[:length // 2]\n",
        "        s_half = s[length // 2:]\n",
        "\n",
        "        if f_half == s_half:\n",
        "            print(\"YES\")\n",
        "        else:\n",
        "            print(\"NO\")\n",
        "    else:\n",
        "        print(\"NO\")"
      ],
      "metadata": {
        "id": "xRwa94KKNXU2"
      },
      "execution_count": null,
      "outputs": []
    },
    {
      "cell_type": "markdown",
      "source": [
        "# **Result**\n",
        "\n",
        "The Solution is accepted"
      ],
      "metadata": {
        "id": "sCALqj3_OVi9"
      }
    },
    {
      "cell_type": "markdown",
      "source": [
        "#**Explaining the implementation**\n",
        "\n",
        "**Line 1:** I accepted value for t, the number of test cases\n",
        "\n",
        "**Line 4&5** : We accepted the value for s, the string and also the length of the string.\n",
        "\n",
        "**Line 7:** We're checking if the string has an even length:\n",
        "\n",
        "**Line 9&10** : We're generating the left hald of the string and the right half of the string.\n",
        "\n",
        "**Line 12:** We're checking if both halves are equall and if yes we print Yes online 13\n",
        "\n",
        "**Line 14:** Both the halves are not equall so we print NO on line 15\n",
        "\n",
        "**Line 16:** We found that the string violates the even lenth condition so prints NO on line 17.\n"
      ],
      "metadata": {
        "id": "QBZEFxqnPZ1a"
      }
    },
    {
      "cell_type": "markdown",
      "source": [
        ""
      ],
      "metadata": {
        "id": "HfG5Nv5uQysM"
      }
    }
  ]
}