{
  "nbformat": 4,
  "nbformat_minor": 0,
  "metadata": {
    "colab": {
      "name": "External_AssignmentPSAT.ipynb",
      "provenance": [],
      "authorship_tag": "ABX9TyMJBHluGf4xNywyVQYtyULl",
      "include_colab_link": true
    },
    "kernelspec": {
      "name": "python3",
      "display_name": "Python 3"
    },
    "language_info": {
      "name": "python"
    }
  },
  "cells": [
    {
      "cell_type": "markdown",
      "metadata": {
        "id": "view-in-github",
        "colab_type": "text"
      },
      "source": [
        "<a href=\"https://colab.research.google.com/github/tony2020edx/ahead/blob/main/External_AssignmentPSAT.ipynb\" target=\"_parent\"><img src=\"https://colab.research.google.com/assets/colab-badge.svg\" alt=\"Open In Colab\"/></a>"
      ]
    },
    {
      "cell_type": "markdown",
      "source": [
        "I choose Problem A and Problem B from the Codeforces [762 DIV 3](https://codeforces.com/contest/1619) Contest"
      ],
      "metadata": {
        "id": "N_hLwHxtKomU"
      }
    },
    {
      "cell_type": "markdown",
      "source": [
        "# **The First Problem**\n",
        "\n",
        "The first problem I attempted is the problem [Square String](https://codeforces.com/contest/1619/problem/A)\n"
      ],
      "metadata": {
        "id": "khj93j_ZK7VE"
      }
    },
    {
      "cell_type": "markdown",
      "source": [
        "\n",
        "# **Problem Statement**\n",
        "\n",
        "Problem Statement: A string is called square if it is some string written twice in a row. For example, the strings \"aa\", \"abcabc\", \"abab\" and \"baabaa\" are square. But the strings \"aaa\", \"abaaab\" and \"abcdabc\" are not square. \n",
        "\n",
        "\n",
        "For a given string 𝑠 determine if it is square.\n",
        "\n",
        "**Input**\n",
        "\n",
        "1. The first line of input data contains an integer 𝑡 (1≤𝑡≤100) —the number of test cases.\n",
        "\n",
        "2. This is followed by 𝑡 lines, each containing a description of one test case. The given strings consist only of lowercase Latin letters and have lengths between 1 and 100 inclusive.\n",
        "\n",
        "**Output**\n",
        "\n",
        "1. For each test case, output on a separate line:\n",
        "\n",
        "2. YES if the string in the corresponding test case is square,\n",
        "NO otherwise.\n",
        "\n",
        "3. You can output YES and NO in any case (for example, strings yEs, yes, Yes and YES will be recognized as a positive response).\n"
      ],
      "metadata": {
        "id": "34J67Mg6LQdS"
      }
    },
    {
      "cell_type": "markdown",
      "source": [
        "# **Observations**\n",
        "\n",
        "1. **The length of the input string must be even:** The reason is even if the substring is of odd length , when it appears twice, the length should be even. \n",
        "\n",
        "2. If we split the string into two halves, if the input string is square - **both halves will be the same.**\n",
        "\n",
        "3. The second observation is the core idea of the solution. We see if the string length is eve, we can check if the halfs are equall. If yes, we can print yes"
      ],
      "metadata": {
        "id": "rSTfKVhGMAI4"
      }
    },
    {
      "cell_type": "code",
      "source": [
        "t = int(input())\n",
        "\n",
        "for i in range(t):\n",
        "    s = input()\n",
        "    length = len(s)\n",
        "\n",
        "    if length % 2 == 0:\n",
        "\n",
        "        f_half = s[:length // 2]\n",
        "        s_half = s[length // 2:]\n",
        "\n",
        "        if f_half == s_half:\n",
        "            print(\"YES\")\n",
        "        else:\n",
        "            print(\"NO\")\n",
        "    else:\n",
        "        print(\"NO\")"
      ],
      "metadata": {
        "id": "xRwa94KKNXU2"
      },
      "execution_count": null,
      "outputs": []
    },
    {
      "cell_type": "markdown",
      "source": [
        "#**Explaining the implementation**\n",
        "\n",
        "**Line 1:** I accepted value for t, the number of test cases\n",
        "\n",
        "**Line 4&5** : We accepted the value for s, the string and also the length of the string.\n",
        "\n",
        "**Line 7:** We're checking if the string has an even length:\n",
        "\n",
        "**Line 9&10** : We're generating the left hald of the string and the right half of the string usling string slicing methode.\n",
        "\n",
        "**Line 12:** We're checking if both halves are equall and if yes we print Yes online 13\n",
        "\n",
        "**Line 14:** Both the halves are not equall so we print NO on line 15\n",
        "\n",
        "**Line 16:** We found that the string violates the even lenth condition so prints NO on line 17.\n"
      ],
      "metadata": {
        "id": "QBZEFxqnPZ1a"
      }
    },
    {
      "cell_type": "markdown",
      "source": [
        "# **Result**\n",
        "\n",
        "The solution is accepted"
      ],
      "metadata": {
        "id": "SgZX9WSfpfxJ"
      }
    },
    {
      "cell_type": "markdown",
      "source": [
        "# **The Second Problem**"
      ],
      "metadata": {
        "id": "HfG5Nv5uQysM"
      }
    },
    {
      "cell_type": "markdown",
      "source": [
        "The second problem i attempted is [Squares and Cubes](https://codeforces.com/contest/1619/problem/B)"
      ],
      "metadata": {
        "id": "M4EXaxzJnMoX"
      }
    },
    {
      "cell_type": "markdown",
      "source": [
        "# **Problem Statement**\n",
        "\n",
        "Polycarp likes squares and cubes of positive integers. Here is the beginning of the sequence of numbers he likes: 1, 4, 8, 9, ....\n",
        "\n",
        "For a given number 𝑛, count the number of integers from 1 to 𝑛 that Polycarp likes. In other words, find the number of such 𝑥 that 𝑥 is a square of a positive integer number or a cube of a positive integer number (or both a square and a cube simultaneously).\n",
        "\n",
        "Input\n",
        "The first line contains an integer 𝑡 (1≤𝑡≤20) — the number of test cases.\n",
        "\n",
        "Then 𝑡 lines contain the test cases, one per line. Each of the lines contains one integer 𝑛 (1≤𝑛≤10^9).\n",
        "\n",
        "Output\n",
        "For each test case, print the answer you are looking for — the number of integers from 1 to 𝑛 that Polycarp likes.\n",
        "\n",
        "**The Testcases**\n",
        "\n",
        "**Input**\n",
        "\n",
        "6\n",
        "10\n",
        "1\n",
        "25\n",
        "1000000000\n",
        "999999999\n",
        "500000000\n",
        "\n",
        "**Output**\n",
        "\n",
        "4\n",
        "1\n",
        "6\n",
        "32591\n",
        "32590\n",
        "23125\n",
        "\n"
      ],
      "metadata": {
        "id": "JK-oYehSnX7F"
      }
    },
    {
      "cell_type": "markdown",
      "source": [
        "# **Observations**\n",
        "\n",
        "1. It looks like a straigghtforward problem that needs **a bruteforce approach**. We check all the numbers less than n that satisfies the condition that its squares and cubes are less than n. \n",
        "2. There is a chance that the same number a can be satisfy both **a^2 < n and a^3 < n**\n",
        "\n",
        "3. We need to loop from 1 and see if the squares or cubes are less than n, then add it to a result.\n",
        "\n",
        "4. The solution is a perfect candidate to use a while loop since we don't know how many times we need to iterate. \n"
      ],
      "metadata": {
        "id": "CGJfv5WOn_n9"
      }
    },
    {
      "cell_type": "code",
      "source": [
        "t = int(input())\n",
        "\n",
        "for i in range(t):\n",
        "    n = int(input())\n",
        "    res = []\n",
        "\n",
        "    a = 1\n",
        "    b = 1\n",
        "\n",
        "    while a*a <= n:\n",
        "        res.append(a*a)\n",
        "        a += 1\n",
        "\n",
        "    while b*b*b <= n:\n",
        "        res.append(b*b*b)\n",
        "        b += 1\n",
        "\n",
        "    print(len(set(res)))"
      ],
      "metadata": {
        "id": "HVF7VpoDpYna"
      },
      "execution_count": null,
      "outputs": []
    },
    {
      "cell_type": "markdown",
      "source": [
        "# **Explaining the implementation**\n",
        "\n",
        "**Line 1:** accepting the number of testcases to the variable t\n",
        "\n",
        "**Line 3:** We iterate over all the test cases\n",
        "\n",
        "**Line 4** : accept n , the input\n",
        "\n",
        "**Line 5:** Declared an empty list to add the results of two while loops follows\n",
        "\n",
        "**Line 7 and 8 :**We set variable a , and b to 1 to make a base case for the while loops. \n",
        "\n",
        "**Line 10,11,12 :** I checked if the square of a is less than n, if yes adds it to the list res\n",
        "\n",
        "**Line 14,15,16:** I checked if the cube of a is less than n if yes, adds it to the list res\n",
        "\n",
        "**Line 18:** Printing the length of the list after deduplicating it with a set operation\n",
        "\n",
        "\n",
        "\n"
      ],
      "metadata": {
        "id": "r3uGYgTipov6"
      }
    },
    {
      "cell_type": "markdown",
      "source": [
        "# **Result**\n",
        "\n",
        "The solution is accepted "
      ],
      "metadata": {
        "id": "X1WySCmerJr3"
      }
    }
  ]
}